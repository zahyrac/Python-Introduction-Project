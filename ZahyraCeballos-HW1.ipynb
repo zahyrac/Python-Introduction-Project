{
 "cells": [
  {
   "cell_type": "markdown",
   "id": "faad36da",
   "metadata": {},
   "source": [
    "## <center><font color=\"blue\">Fall 2021 Programming Project 1</font> \n"
   ]
  },
  {
   "cell_type": "markdown",
   "id": "6905168c",
   "metadata": {},
   "source": [
    "### <center><font color=\"purple\">Programming with Python (ISGB-7943-002)</font>"
   ]
  },
  {
   "cell_type": "markdown",
   "id": "e7781aa0",
   "metadata": {},
   "source": [
    "### <center><font color=\"purple\">Name: Zahyra Ceballos</font>"
   ]
  },
  {
   "cell_type": "markdown",
   "id": "35f010d0",
   "metadata": {},
   "source": [
    "### <font color=\"blue\"> Q1: Energy Calculation </font>"
   ]
  },
  {
   "cell_type": "code",
   "execution_count": 6,
   "id": "5a4a0532",
   "metadata": {},
   "outputs": [
    {
     "name": "stdout",
     "output_type": "stream",
     "text": [
      "Enter weight of water being heated: 2.8\n",
      "Enter initial temperature of the water: 12.5\n",
      "Enter desired temperature of the water: 30\n",
      "The energy needed to heat the water from 12.5 C to 30.0 C is 205016.0 joules\n"
     ]
    }
   ],
   "source": [
    "#  Program calculates the energy needed to heat water from an initial temperature to a final temperature\n",
    "\n",
    "# Ask the user to input initial temperature of the water\n",
    "\n",
    "weight = float(input('Enter weight of water being heated: '))\n",
    "\n",
    "# Ask the user to input initial temperature of the water\n",
    "\n",
    "initial_temp = float(input('Enter initial temperature of the water: '))\n",
    "\n",
    "# Ask the user to input the desired final temperature\n",
    "\n",
    "final_temp = float(input('Enter desired temperature of the water: '))\n",
    "\n",
    "# Calculate the energy \n",
    "\n",
    "energy = weight * (final_temp - initial_temp) * 4184\n",
    "\n",
    "# Output\n",
    "\n",
    "print('The energy needed to heat the water from', initial_temp,'C to', final_temp,'C is', energy, 'joules')"
   ]
  },
  {
   "cell_type": "markdown",
   "id": "54197fc0",
   "metadata": {},
   "source": [
    "### <font color=\"blue\"> Q2: Body Mass Index </font>"
   ]
  },
  {
   "cell_type": "code",
   "execution_count": 17,
   "id": "b3a658c0",
   "metadata": {},
   "outputs": [
    {
     "name": "stdout",
     "output_type": "stream",
     "text": [
      "Enter your height in inches: 64.50\n",
      "Enter your weight in pounds: 171\n",
      "Your weight is:  171.0 inches.\n",
      "Your height is:  64.5 lbs.\n",
      "And your Body Mass Index is:  28.90\n",
      "\n",
      "The National Institute of Health (NIH) classifies your BMI under the category of Overweight.\n"
     ]
    }
   ],
   "source": [
    "#  Program calculates a person's Body Mass Index based on user input of height and weight\n",
    "\n",
    "# Ask the user to input a height in inches\n",
    "\n",
    "height = float(input('Enter your height in inches: '))\n",
    "\n",
    "# Ask the user to input a weight in pounds\n",
    "\n",
    "weight = float(input('Enter your weight in pounds: '))\n",
    "\n",
    "# Calculate the BMI \n",
    "\n",
    "BMI = ((703) * ((weight)/(height*height)))\n",
    "\n",
    "#output\n",
    "\n",
    "print('Your weight is: ', weight,'inches.')\n",
    "print('Your height is: ', height,'lbs.')\n",
    "print('And your Body Mass Index is: ', format(BMI,',.2f'))\n",
    "\n",
    "\n",
    "# Print a polite message to inform user how their BMI is categorized\n",
    "\n",
    "if BMI < 18.5: \n",
    "    print('\\nThe National Institute of Health (NIH) classifies your BMI under the category of Under weight.')\n",
    "elif BMI > 18.5 and BMI < 25:\n",
    "    print('\\nThe National Institute of Health (NIH) classifies your BMI under the category of Normal weight.')\n",
    "elif BMI >= 25 and BMI < 30:\n",
    "    print('\\nThe National Institute of Health (NIH) classifies your BMI under the category of Overweight.')\n",
    "elif BMI >= 30:\n",
    "    print('\\nThe National Institute of Health (NIH) classifies your BMI under the category of Obese.')\n",
    "    \n",
    "\n",
    "\n"
   ]
  },
  {
   "cell_type": "markdown",
   "id": "fc6dba6a",
   "metadata": {},
   "source": [
    "### <font color=\"blue\"> Q3: Sales Tax </font>"
   ]
  },
  {
   "cell_type": "code",
   "execution_count": 2,
   "id": "c7be89cd",
   "metadata": {},
   "outputs": [
    {
     "name": "stdout",
     "output_type": "stream",
     "text": [
      "Enter item price: 46.50\n",
      "Your total balance is:  50.06\n"
     ]
    }
   ],
   "source": [
    "#  Program calculates and then displays the total cost of purchasing a clothing item\n",
    "\n",
    "\n",
    "# Ask the user to input a clothing item price\n",
    "\n",
    "item_price = float(input('Enter item price: '))\n",
    "\n",
    "# Calculate and then display the total cost of purchasing that item\n",
    "\n",
    "if item_price < 15:\n",
    "    tax = 0.017\n",
    "elif item_price > 15:\n",
    "    tax = 0.0765\n",
    "\n",
    "sales_tax = item_price * tax\n",
    "cost = item_price + sales_tax\n",
    "\n",
    "print('Your total balance is: ', format(cost,',.2f'))\n"
   ]
  },
  {
   "cell_type": "markdown",
   "id": "23e5fe8b",
   "metadata": {},
   "source": [
    "### <font color=\"blue\"> Q4: Scholarship Eligibility </font>"
   ]
  },
  {
   "cell_type": "code",
   "execution_count": 15,
   "id": "f6465a79",
   "metadata": {},
   "outputs": [
    {
     "name": "stdout",
     "output_type": "stream",
     "text": [
      "Enter what year you are in: Junior\n",
      "Enter your GPA: 3.9\n",
      "Congratulations! You are eligible to apply for the President`s Scholarship.\n"
     ]
    }
   ],
   "source": [
    "# Program determines eligibility\n",
    "\n",
    "\n",
    "# Ask the student for input seniority and gpa\n",
    "\n",
    "seniority = input('Enter what year you are in: ')\n",
    " \n",
    "gpa = float(input('Enter your GPA: '))\n",
    "\n",
    "# Determine if the student is eligible to apply for the scholarship or not\n",
    "\n",
    "if seniority == 'Senior' and gpa >= 3.3:\n",
    "    print('Congratulations! You are eligible to apply for the President`s Scholarship.')\n",
    "elif seniority == 'Junior' and gpa >= 3.6:\n",
    "    print('Congratulations! You are eligible to apply for the President`s Scholarship.')\n",
    "else: \n",
    "    print('You are not eligible for this scholarship.')\n",
    "    \n"
   ]
  }
 ],
 "metadata": {
  "kernelspec": {
   "display_name": "Python 3",
   "language": "python",
   "name": "python3"
  },
  "language_info": {
   "codemirror_mode": {
    "name": "ipython",
    "version": 3
   },
   "file_extension": ".py",
   "mimetype": "text/x-python",
   "name": "python",
   "nbconvert_exporter": "python",
   "pygments_lexer": "ipython3",
   "version": "3.8.8"
  }
 },
 "nbformat": 4,
 "nbformat_minor": 5
}
